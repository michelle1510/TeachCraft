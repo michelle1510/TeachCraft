{
 "cells": [
  {
   "cell_type": "code",
   "execution_count": null,
   "metadata": {},
   "outputs": [],
   "source": [
    "class Course: \n",
    "    def __init__(self, course):\n",
    "        self.course = course\n",
    "    \n",
    "    def display_info(self):\n",
    "        print(f\"Course: {self.course}\")\n"
   ]
  }
 ],
 "metadata": {
  "language_info": {
   "name": "python"
  }
 },
 "nbformat": 4,
 "nbformat_minor": 2
}
