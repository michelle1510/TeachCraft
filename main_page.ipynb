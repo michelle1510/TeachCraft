{
 "cells": [
  {
   "cell_type": "code",
   "execution_count": 1,
   "metadata": {},
   "outputs": [
    {
     "name": "stderr",
     "output_type": "stream",
     "text": [
      "2024-05-14 17:12:52.410 Python[8079:262821] WARNING: Secure coding is not enabled for restorable state! Enable secure coding by implementing NSApplicationDelegate.applicationSupportsSecureRestorableState: and returning YES.\n"
     ]
    },
    {
     "ename": "",
     "evalue": "",
     "output_type": "error",
     "traceback": [
      "\u001b[1;31mThe Kernel crashed while executing code in the current cell or a previous cell. \n",
      "\u001b[1;31mPlease review the code in the cell(s) to identify a possible cause of the failure. \n",
      "\u001b[1;31mClick <a href='https://aka.ms/vscodeJupyterKernelCrash'>here</a> for more info. \n",
      "\u001b[1;31mView Jupyter <a href='command:jupyter.viewOutput'>log</a> for further details."
     ]
    }
   ],
   "source": [
    "import tkinter as tk\n",
    "\n",
    "# Step 1: Create the Button Class\n",
    "class MyButton(tk.Button):\n",
    "    def __init__(self, master=None, **kwargs):\n",
    "        super().__init__(master, **kwargs)\n",
    "        # Customize button behavior or appearance here\n",
    "\n",
    "# Step 2: Instantiate the Button\n",
    "button_instance = MyButton(text=\"Click Me\")\n",
    "\n",
    "# Step 3: Create the App Page Class\n",
    "class AppPage(tk.Frame):\n",
    "    def __init__(self, master=None):\n",
    "        super().__init__(master)\n",
    "        self.pack()\n",
    "        # Add button to the app page\n",
    "        button_instance.pack()\n",
    "\n",
    "# Step 4: Create the Main Application\n",
    "root = tk.Tk()\n",
    "app_page = AppPage(master=root)\n",
    "\n",
    "# Step 5: Run the Tkinter Event Loop\n",
    "root.mainloop()\n"
   ]
  }
 ],
 "metadata": {
  "kernelspec": {
   "display_name": "Python 3",
   "language": "python",
   "name": "python3"
  },
  "language_info": {
   "codemirror_mode": {
    "name": "ipython",
    "version": 3
   },
   "file_extension": ".py",
   "mimetype": "text/x-python",
   "name": "python",
   "nbconvert_exporter": "python",
   "pygments_lexer": "ipython3",
   "version": "3.11.4"
  }
 },
 "nbformat": 4,
 "nbformat_minor": 2
}
