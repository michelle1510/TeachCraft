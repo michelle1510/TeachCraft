{
 "cells": [
  {
   "cell_type": "code",
   "execution_count": null,
   "metadata": {},
   "outputs": [],
   "source": [
    "class SLO:\n",
    "    pros = list()\n",
    "    \n",
    "    def __init__(self, slo):\n",
    "        self.slo = slo\n",
    "\n",
    "    def display_info(self):\n",
    "        print(f\"SLO: {self.slo}\")\n",
    "\n",
    "    def add_pro(self, pro):\n",
    "        self.pros.append(pro)"
   ]
  }
 ],
 "metadata": {
  "kernelspec": {
   "display_name": "Python 3",
   "language": "python",
   "name": "python3"
  },
  "language_info": {
   "name": "python",
   "version": "3.12.3"
  }
 },
 "nbformat": 4,
 "nbformat_minor": 2
}
