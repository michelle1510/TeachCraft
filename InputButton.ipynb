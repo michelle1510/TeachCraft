{
 "cells": [
  {
   "cell_type": "code",
   "execution_count": 7,
   "metadata": {},
   "outputs": [
    {
     "name": "stdout",
     "output_type": "stream",
     "text": [
      "Input: c\n"
     ]
    },
    {
     "name": "stderr",
     "output_type": "stream",
     "text": [
      "Exception in Tkinter callback\n",
      "Traceback (most recent call last):\n",
      "  File \"C:\\Program Files\\WindowsApps\\PythonSoftwareFoundation.Python.3.12_3.12.1008.0_x64__qbz5n2kfra8p0\\Lib\\tkinter\\__init__.py\", line 1967, in __call__\n",
      "    return self.func(*args)\n",
      "           ^^^^^^^^^^^^^^^^\n",
      "  File \"C:\\Users\\abroo\\AppData\\Local\\Temp\\ipykernel_24532\\495013660.py\", line 35, in get_input\n",
      "    self.save_input_data(input_text, self.num)  # Save input data to the database\n",
      "    ^^^^^^^^^^^^^^^^^^^^^^^^^^^^^^^^^^^^^^^^^^\n",
      "  File \"C:\\Users\\abroo\\AppData\\Local\\Temp\\ipykernel_24532\\495013660.py\", line 63, in save_input_data\n",
      "    cursor.execute(\"INSERT INTO input_data (id, data) VALUES (?, ?)\", (num, data))\n",
      "sqlite3.OperationalError: database is locked\n"
     ]
    },
    {
     "name": "stdout",
     "output_type": "stream",
     "text": [
      "Input: d\n"
     ]
    },
    {
     "name": "stderr",
     "output_type": "stream",
     "text": [
      "Exception in Tkinter callback\n",
      "Traceback (most recent call last):\n",
      "  File \"C:\\Program Files\\WindowsApps\\PythonSoftwareFoundation.Python.3.12_3.12.1008.0_x64__qbz5n2kfra8p0\\Lib\\tkinter\\__init__.py\", line 1967, in __call__\n",
      "    return self.func(*args)\n",
      "           ^^^^^^^^^^^^^^^^\n",
      "  File \"C:\\Users\\abroo\\AppData\\Local\\Temp\\ipykernel_24532\\495013660.py\", line 35, in get_input\n",
      "    self.save_input_data(input_text, self.num)  # Save input data to the database\n",
      "    ^^^^^^^^^^^^^^^^^^^^^^^^^^^^^^^^^^^^^^^^^^\n",
      "  File \"C:\\Users\\abroo\\AppData\\Local\\Temp\\ipykernel_24532\\495013660.py\", line 63, in save_input_data\n",
      "    cursor.execute(\"INSERT INTO input_data (id, data) VALUES (?, ?)\", (num, data))\n",
      "sqlite3.OperationalError: database is locked\n"
     ]
    },
    {
     "ename": "",
     "evalue": "",
     "output_type": "error",
     "traceback": [
      "\u001b[1;31mThe Kernel crashed while executing code in the current cell or a previous cell. \n",
      "\u001b[1;31mPlease review the code in the cell(s) to identify a possible cause of the failure. \n",
      "\u001b[1;31mClick <a href='https://aka.ms/vscodeJupyterKernelCrash'>here</a> for more info. \n",
      "\u001b[1;31mView Jupyter <a href='command:jupyter.viewOutput'>log</a> for further details."
     ]
    }
   ],
   "source": [
    "import tkinter as tk\n",
    "import sqlite3\n",
    "\n",
    "class MultiInput(tk.Tk):\n",
    "    def __init__(self):\n",
    "       super().__init__()\n",
    "       self.title(\"Multi-Input\")\n",
    "\n",
    "       # Create a label\n",
    "       self.label = tk.Label(self, text=\"Enter text:\")\n",
    "       self.label.pack()\n",
    "\n",
    "       # Create an entry widget for text input\n",
    "       self.entry = tk.Entry(self)\n",
    "       self.entry.pack()\n",
    "\n",
    "       # Create a Text widget to display previous inputs\n",
    "       self.text_display = tk.Text(self)\n",
    "       self.text_display.pack()\n",
    "\n",
    "       # Initialize num\n",
    "       self.num = 1\n",
    "\n",
    "       # Create a button\n",
    "       self.button = tk.Button(self, text=\"Submit\", command=self.get_input)\n",
    "       self.button.pack()\n",
    "\n",
    "       # Create the table if it doesn't exist\n",
    "       self.create_table()\n",
    "\n",
    "    def get_input(self):\n",
    "       input_text = self.entry.get()\n",
    "       print(\"Input:\", input_text)\n",
    "       self.text_display.insert(tk.END, input_text + '\\n')\n",
    "       self.save_input_data(input_text, self.num)  # Save input data to the database\n",
    "       self.num += 1  # Increment num\n",
    "       self.entry.delete(0, tk.END)\n",
    "\n",
    "    def create_table(self):\n",
    "       # Connect to SQLite database (creates a new database if it doesn't exist)\n",
    "       conn = sqlite3.connect('table.db')\n",
    "\n",
    "       # Create a cursor object\n",
    "       cursor = conn.cursor()\n",
    "\n",
    "       # Create a new table if it doesn't exist\n",
    "       cursor.execute('''CREATE TABLE IF NOT EXISTS input_data (id INTEGER PRIMARY KEY, data TEXT)''')\n",
    "\n",
    "       # Commit the changes\n",
    "       conn.commit()\n",
    "\n",
    "       # Close the connection\n",
    "       conn.close()\n",
    "\n",
    "    def save_input_data(self, data, num):\n",
    "       # Connect to SQLite database\n",
    "       conn = sqlite3.connect('table.db')\n",
    "\n",
    "       # Create a cursor object\n",
    "       cursor = conn.cursor()\n",
    "\n",
    "       # Insert data into the table using parameterized query\n",
    "       cursor.execute(\"INSERT INTO input_data (id, data) VALUES (?, ?)\", (num, data))\n",
    "\n",
    "       # Commit the changes\n",
    "       conn.commit()\n",
    "\n",
    "       # Close the connection\n",
    "       conn.close()\n",
    "\n",
    "    def update_table(self):\n",
    "        self.save_input_data(\"Updated data\", self.num)\n",
    "        self.num += 1\n",
    "        self.after(5000, self.schedule_update)\n",
    "    \n",
    "    def schedule_update(self):\n",
    "       self.after(5000, self.update_table)\n",
    "    \n",
    "\n",
    "if __name__ == \"__main__\":\n",
    "   app = MultiInput()\n",
    "   app.mainloop()"
   ]
  }
 ],
 "metadata": {
  "kernelspec": {
   "display_name": "Python 3",
   "language": "python",
   "name": "python3"
  },
  "language_info": {
   "codemirror_mode": {
    "name": "ipython",
    "version": 3
   },
   "file_extension": ".py",
   "mimetype": "text/x-python",
   "name": "python",
   "nbconvert_exporter": "python",
   "pygments_lexer": "ipython3",
   "version": "3.12.3"
  }
 },
 "nbformat": 4,
 "nbformat_minor": 2
}
