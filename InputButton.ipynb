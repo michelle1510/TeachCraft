{
 "cells": [
  {
   "cell_type": "code",
   "execution_count": 5,
   "metadata": {},
   "outputs": [
    {
     "name": "stdout",
     "output_type": "stream",
     "text": [
      "Input: zxc\n",
      "Input: cccccc\n",
      "Input: sss\n"
     ]
    }
   ],
   "source": [
    "import tkinter as tk\n",
    "import sqlite3\n",
    "\n",
    "class MultiInput(tk.Tk):\n",
    "    def __init__(self):\n",
    "        super().__init__()\n",
    "        self.title(\"Multi-Input\")\n",
    "\n",
    "        # Create a label\n",
    "        self.label = tk.Label(self, text=\"Enter text:\")\n",
    "        self.label.pack()\n",
    "\n",
    "        # Create an entry widget for text input\n",
    "        self.entry = tk.Entry(self)\n",
    "        self.entry.pack()\n",
    "\n",
    "        # Create a Text widget to display previous inputs\n",
    "        self.text_display = tk.Text(self)\n",
    "        self.text_display.pack()\n",
    "\n",
    "        # Create a button\n",
    "        self.button = tk.Button(self, text=\"Submit\", command=self.get_input)\n",
    "        self.button.pack()\n",
    "\n",
    "        # Create the table if it doesn't exist\n",
    "        self.create_table()\n",
    "\n",
    "    def get_input(self):\n",
    "        input_text = self.entry.get()\n",
    "        print(\"Input:\", input_text)\n",
    "        self.text_display.insert(tk.END, input_text + '\\n')\n",
    "        self.save_input_data(input_text)  # Save input data to the database\n",
    "        self.entry.delete(0, tk.END)\n",
    "\n",
    "    def create_table(self):\n",
    "        # Connect to SQLite database (creates a new database if it doesn't exist)\n",
    "        conn = sqlite3.connect('table.db')\n",
    "\n",
    "        # Create a cursor object\n",
    "        cursor = conn.cursor()\n",
    "\n",
    "        # Create a new table if it doesn't exist\n",
    "        cursor.execute('''CREATE TABLE IF NOT EXISTS input_data (id INTEGER PRIMARY KEY AUTOINCREMENT, data TEXT)''')\n",
    "\n",
    "        # Commit the changes and close the connection\n",
    "        conn.commit()\n",
    "        conn.close()\n",
    "\n",
    "    def save_input_data(self, data):\n",
    "        # Connect to SQLite database\n",
    "        conn = sqlite3.connect('table.db')\n",
    "\n",
    "        # Create a cursor object\n",
    "        cursor = conn.cursor()\n",
    "\n",
    "        # Insert data into the table using parameterized query\n",
    "        cursor.execute(\"INSERT INTO input_data (data) VALUES (?)\", (data,))\n",
    "\n",
    "        # Commit the changes and close the connection\n",
    "        conn.commit()\n",
    "        conn.close()\n",
    "\n",
    "if __name__ == \"__main__\":\n",
    "    app = MultiInput()\n",
    "    app.mainloop()"
   ]
  }
 ],
 "metadata": {
  "kernelspec": {
   "display_name": "Python 3",
   "language": "python",
   "name": "python3"
  },
  "language_info": {
   "codemirror_mode": {
    "name": "ipython",
    "version": 3
   },
   "file_extension": ".py",
   "mimetype": "text/x-python",
   "name": "python",
   "nbconvert_exporter": "python",
   "pygments_lexer": "ipython3",
   "version": "3.12.3"
  }
 },
 "nbformat": 4,
 "nbformat_minor": 2
}
