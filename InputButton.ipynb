{
 "cells": [
  {
   "cell_type": "code",
   "execution_count": 2,
   "metadata": {},
   "outputs": [
    {
     "name": "stdout",
     "output_type": "stream",
     "text": [
      "Input: Get A's\n"
     ]
    }
   ],
   "source": [
    "import tkinter as tk\n",
    "\n",
    "class MultiInput:\n",
    "    def __init__(self):\n",
    "        self.window = tk.Tk()\n",
    "        self.window.title(\"Multi-Input\")\n",
    "\n",
    "        # Create a label\n",
    "        self.label = tk.Label(self.window, text=\"Enter text:\")\n",
    "        self.label.pack()\n",
    "\n",
    "        # Create an entry widget for text input\n",
    "        self.entry = tk.Entry(self.window)\n",
    "        self.entry.pack()\n",
    "\n",
    "        # Create a Text widget to display previous inputs\n",
    "        self.text_display = tk.Text(self.window)\n",
    "        self.text_display.pack()\n",
    "\n",
    "        # Create a button using the custom class\n",
    "        self.button = InputButton(self.window, text_display=self.text_display, text=\"Submit\")\n",
    "        self.button.pack()\n",
    "\n",
    "        # Bind the button to the entry widget\n",
    "        self.button.master.entry = self.entry\n",
    "\n",
    "    def run(self):\n",
    "        # Run the main event loop\n",
    "        self.window.mainloop()\n",
    "\n",
    "\n",
    "class InputButton(tk.Button):\n",
    "    def __init__(self, master=None, text_display=None, **kwargs):\n",
    "        super().__init__(master, **kwargs)\n",
    "        self.text_display = text_display\n",
    "        self.input_text = \"\"\n",
    "\n",
    "        # Configure button behavior\n",
    "        self.config(command=self.get_input)\n",
    "\n",
    "    def get_input(self):\n",
    "        self.input_text = self.master.entry.get()\n",
    "        print(\"Input:\", self.input_text)\n",
    "        self.text_display.insert(tk.END, self.input_text + '\\n')\n",
    "        self.master.entry.delete(0, tk.END)\n",
    "\n",
    "#Usage\n",
    "if __name__ == \"__main__\":\n",
    "    app = MultiInput()\n",
    "    app.run()"
   ]
  }
 ],
 "metadata": {
  "kernelspec": {
   "display_name": "Python 3",
   "language": "python",
   "name": "python3"
  },
  "language_info": {
   "codemirror_mode": {
    "name": "ipython",
    "version": 3
   },
   "file_extension": ".py",
   "mimetype": "text/x-python",
   "name": "python",
   "nbconvert_exporter": "python",
   "pygments_lexer": "ipython3",
   "version": "3.11.4"
  }
 },
 "nbformat": 4,
 "nbformat_minor": 2
}
