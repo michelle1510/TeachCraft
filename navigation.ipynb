{
 "cells": [
  {
   "cell_type": "code",
   "execution_count": 3,
   "metadata": {},
   "outputs": [
    {
     "ename": "KeyboardInterrupt",
     "evalue": "",
     "output_type": "error",
     "traceback": [
      "\u001b[0;31m---------------------------------------------------------------------------\u001b[0m",
      "\u001b[0;31mKeyboardInterrupt\u001b[0m                         Traceback (most recent call last)",
      "Cell \u001b[0;32mIn[3], line 47\u001b[0m\n\u001b[1;32m     44\u001b[0m     root\u001b[38;5;241m.\u001b[39mmainloop()\n\u001b[1;32m     46\u001b[0m \u001b[38;5;28;01mif\u001b[39;00m \u001b[38;5;18m__name__\u001b[39m \u001b[38;5;241m==\u001b[39m \u001b[38;5;124m\"\u001b[39m\u001b[38;5;124m__main__\u001b[39m\u001b[38;5;124m\"\u001b[39m:\n\u001b[0;32m---> 47\u001b[0m     \u001b[43mmain\u001b[49m\u001b[43m(\u001b[49m\u001b[43m)\u001b[49m\n",
      "Cell \u001b[0;32mIn[3], line 44\u001b[0m, in \u001b[0;36mmain\u001b[0;34m()\u001b[0m\n\u001b[1;32m     42\u001b[0m root \u001b[38;5;241m=\u001b[39m tk\u001b[38;5;241m.\u001b[39mTk()\n\u001b[1;32m     43\u001b[0m app \u001b[38;5;241m=\u001b[39m SideBar(root)\n\u001b[0;32m---> 44\u001b[0m \u001b[43mroot\u001b[49m\u001b[38;5;241;43m.\u001b[39;49m\u001b[43mmainloop\u001b[49m\u001b[43m(\u001b[49m\u001b[43m)\u001b[49m\n",
      "File \u001b[0;32m/Library/Frameworks/Python.framework/Versions/3.11/lib/python3.11/tkinter/__init__.py:1485\u001b[0m, in \u001b[0;36mMisc.mainloop\u001b[0;34m(self, n)\u001b[0m\n\u001b[1;32m   1483\u001b[0m \u001b[38;5;28;01mdef\u001b[39;00m \u001b[38;5;21mmainloop\u001b[39m(\u001b[38;5;28mself\u001b[39m, n\u001b[38;5;241m=\u001b[39m\u001b[38;5;241m0\u001b[39m):\n\u001b[1;32m   1484\u001b[0m \u001b[38;5;250m    \u001b[39m\u001b[38;5;124;03m\"\"\"Call the mainloop of Tk.\"\"\"\u001b[39;00m\n\u001b[0;32m-> 1485\u001b[0m     \u001b[38;5;28;43mself\u001b[39;49m\u001b[38;5;241;43m.\u001b[39;49m\u001b[43mtk\u001b[49m\u001b[38;5;241;43m.\u001b[39;49m\u001b[43mmainloop\u001b[49m\u001b[43m(\u001b[49m\u001b[43mn\u001b[49m\u001b[43m)\u001b[49m\n",
      "\u001b[0;31mKeyboardInterrupt\u001b[0m: "
     ]
    }
   ],
   "source": [
    "import tkinter as tk\n",
    "\n",
    "class SideBar:\n",
    "    def __init__(self, master):\n",
    "        self.master = master\n",
    "        self.master.title(\"Sidebar Image\")\n",
    "        self.master.geometry(\"800x600\")\n",
    "\n",
    "        # Create canvas for the sidebar image\n",
    "        self.canvas = tk.Canvas(master, width=200, height=600, bg=\"white\")\n",
    "        self.canvas.pack(side=\"left\", fill=\"both\", expand=True)\n",
    "\n",
    "        # Add \"TeachCraft\" button\n",
    "        self.create_button(10, 10, 190, 70, \"TeachCraft\", \"navy\", clickable=False)\n",
    "\n",
    "        # Add \"my data:\" label\n",
    "        self.canvas.create_text(100, 100, text=\"My Data:\", fill=\"black\", font=(\"Arial\", 12, \"bold\"))\n",
    "\n",
    "        # Add clickable buttons\n",
    "        buttons_text = [\"Program goals\", \"Assessment Area\", \"Student Learning Outcomes\", \"Proficiencies\", \"Courses\"]\n",
    "        y = 130\n",
    "        for text in buttons_text:\n",
    "            self.create_button(10, y, 190, y + 40, text, \"pink\", clickable=True)\n",
    "            y += 50\n",
    "        \n",
    "        self.canvas.create_rectangle(210, 10, 790, 590, fill=\"lightblue\", outline=\"\")\n",
    "\n",
    "    def create_button(self, x1, y1, x2, y2, text, color, clickable=True):\n",
    "        button = self.canvas.create_rectangle(x1, y1, x2, y2, fill=color, outline=\"\")\n",
    "        text_id = self.canvas.create_text((x1+x2)/2, (y1+y2)/2, text=text, fill=\"white\", font=(\"Arial\", 10), tag=\"button\")\n",
    "        if clickable:\n",
    "            self.canvas.tag_bind(button, \"<Button-1>\", lambda e, button=button: self.on_button_click(button))\n",
    "\n",
    "    def on_button_click(self, button):\n",
    "        current_color = self.canvas.itemcget(button, \"fill\")\n",
    "        if current_color == \"pink\":\n",
    "            self.canvas.itemconfig(button, fill=\"gray\")  # Change button color to muted tone\n",
    "        else:\n",
    "            self.canvas.itemconfig(button, fill=\"pink\")  # Change button color back to pink\n",
    "\n",
    "def main():\n",
    "    root = tk.Tk()\n",
    "    app = SideBar(root)\n",
    "    root.mainloop()\n",
    "\n",
    "if __name__ == \"__main__\":\n",
    "    main()\n"
   ]
  }
 ],
 "metadata": {
  "kernelspec": {
   "display_name": "Python 3",
   "language": "python",
   "name": "python3"
  },
  "language_info": {
   "codemirror_mode": {
    "name": "ipython",
    "version": 3
   },
   "file_extension": ".py",
   "mimetype": "text/x-python",
   "name": "python",
   "nbconvert_exporter": "python",
   "pygments_lexer": "ipython3",
   "version": "3.11.4"
  }
 },
 "nbformat": 4,
 "nbformat_minor": 2
}
