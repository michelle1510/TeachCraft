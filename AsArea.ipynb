{
 "cells": [
  {
   "cell_type": "code",
   "execution_count": null,
   "metadata": {},
   "outputs": [],
   "source": [
    "class AsArea:\n",
    "    pros = list()\n",
    "\n",
    "    def __init__(self, asarea):\n",
    "        self.asarea = asarea\n",
    "\n",
    "    def display_info(self):\n",
    "        print(f\"Assessment Area: {self.asarea}\")\n",
    "    \n",
    "    def add_pro(self, pro):\n",
    "        self.pros.append(pro)"
   ]
  }
 ],
 "metadata": {
  "language_info": {
   "name": "python"
  }
 },
 "nbformat": 4,
 "nbformat_minor": 2
}
