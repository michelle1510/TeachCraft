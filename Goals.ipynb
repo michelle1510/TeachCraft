{
 "cells": [
  {
   "cell_type": "code",
   "execution_count": null,
   "metadata": {},
   "outputs": [],
   "source": [
    "class Goals:\n",
    "    def __init__(self,asarea,slo):\n",
    "        self.asarea = asarea\n",
    "        self.slo = slo\n",
    "\n",
    "    def display_info(self):\n",
    "            print(f\"AsAreas: \")\n",
    "            for asarea in self.asarea:\n",
    "                print(f\" - {asarea}\")\n",
    "                print(f\"SLO :\")\n",
    "                for slo in self.slo:\n",
    "                    print(f\" - {slo}\")\n"
   ]
  }
 ],
 "metadata": {
  "kernelspec": {
   "display_name": "Python 3",
   "language": "python",
   "name": "python3"
  },
  "language_info": {
   "name": "python",
   "version": "3.9.6"
  }
 },
 "nbformat": 4,
 "nbformat_minor": 2
}
