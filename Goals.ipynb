{
 "cells": [
  {
   "cell_type": "code",
   "execution_count": null,
   "metadata": {},
   "outputs": [],
   "source": [
    "class Goals:\n",
    "\n",
    "\n",
    "    slos = list()\n",
    "    asarea = list()\n",
    "\n",
    "    def __init__(self, goal):\n",
    "        self.goal= goal\n",
    "\n",
    "    def display_info(self):\n",
    "            print(f\"AsAreas: \")\n",
    "            for asarea in self.asarea:\n",
    "                print(f\" - {asarea}\")\n",
    "                print(f\"SLO :\")\n",
    "                for slo in self.slo:\n",
    "                    print(f\" - {slo}\")\n",
    "class MyClass:\n",
    "    slos = list()\n",
    "    asarea = list()\n",
    "\n",
    "    def __init__(self, goal):\n",
    "        self.goal = goal\n",
    "\n",
    "    def add_slo(self, slo):\n",
    "        self.slos.append(slo)\n",
    "\n",
    "    def add_asarea(self, asarea):\n",
    "        self.asarea.append(asarea)\n",
    "\n",
    "    def display_info(self):\n",
    "        print(\"AsAreas:\")\n",
    "        for area in self.asarea:\n",
    "            print(f\" - {area}\")\n",
    "\n",
    "        print(\"SLOs:\")\n",
    "        for slo in self.slos:\n",
    "            print(f\" - {slo}\")\n",
    "\n",
    "# Example usage:\n",
    "my_instance = MyClass(\"My goal\")\n",
    "\n",
    "# Add SLOs and AsAreas\n",
    "my_instance.add_slo(\"SLO 1\")\n",
    "my_instance.add_slo(\"SLO 2\")\n",
    "\n",
    "my_instance.add_asarea(\"Area 1\")\n",
    "my_instance.add_asarea(\"Area 2\")\n",
    "\n",
    "# Display information\n",
    "my_instance.display_info()\n",
    "\n",
    "\n",
    "#create helper function to fill in other vars "
   ]
  }
 ],
 "metadata": {
  "kernelspec": {
   "display_name": "Python 3",
   "language": "python",
   "name": "python3"
  },
  "language_info": {
   "name": "python",
   "version": "3.11.4"
  }
 },
 "nbformat": 4,
 "nbformat_minor": 2
}
