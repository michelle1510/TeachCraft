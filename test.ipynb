{
 "cells": [
  {
   "cell_type": "code",
   "execution_count": 4,
   "metadata": {},
   "outputs": [],
   "source": [
    "\n",
    "import tkinter as tk\n",
    "\n",
    "class SidebarImage:\n",
    "    def __init__(self, master):\n",
    "        self.master = master\n",
    "        self.master.title(\"Sidebar Image\")\n",
    "        self.master.geometry(\"800x600\")\n",
    "\n",
    "        # Create canvas for the sidebar image\n",
    "        self.canvas = tk.Canvas(master, width=200, height=600, bg=\"white\")\n",
    "        self.canvas.pack(side=\"left\", fill=\"both\", expand=True)\n",
    "\n",
    "        # Add \"TeachCraft\" button\n",
    "        self.canvas.create_rectangle(10, 10, 190, 70, fill=\"pink\", outline=\"\")\n",
    "        self.canvas.create_text(100, 40, text=\"TeachCraft\", fill=\"white\", font=(\"Arial\", 14), tag=\"button\")\n",
    "        self.canvas.tag_bind(\"button\", \"<Button-1>\", lambda e: print(\"TeachCraft button clicked\"))\n",
    "\n",
    "        # Add \"my data:\" label\n",
    "        self.canvas.create_text(100, 100, text=\"my data:\", fill=\"white\", font=(\"Arial\", 12, \"bold\"))\n",
    "\n",
    "        # Add clickable buttons\n",
    "        buttons_text = [\"Program goals\", \"Assessment Area\", \"Student Learning Outcomes\", \"Proficiencies\", \"Courses\"]\n",
    "        y = 130\n",
    "        for text in buttons_text:\n",
    "            self.canvas.create_rectangle(10, y, 190, y + 40, fill=\"pink\", outline=\"\")\n",
    "            self.canvas.create_text(100, y + 20, text=text, fill=\"white\", font=(\"Arial\", 10), tag=\"button\")\n",
    "            self.canvas.tag_bind(\"button\", \"<Button-1>\", lambda e, t=text: print(t))\n",
    "            y += 50\n",
    "\n",
    "        # Create large square box filled with pink\n",
    "        self.large_box = self.canvas.create_rectangle(300, 50, 600, 450, fill=\"pink\", outline=\"\")\n",
    "\n",
    "        # Create smaller rectangular box for user input\n",
    "        self.user_input_box = self.canvas.create_rectangle(310, 60, 510, 100, fill=\"white\", outline=\"black\")\n",
    "        self.insert_goal_label = self.canvas.create_text(320, 70, anchor=\"nw\", text=\"Insert Goal:\", fill=\"black\", font=(\"Arial\", 10))\n",
    "\n",
    "        # Create entry widget for user input\n",
    "        self.user_input = tk.Entry(master, width=50)\n",
    "        self.canvas.create_window(320, 90, anchor=\"nw\", window=self.user_input)\n",
    "\n",
    "        # Create bullet point lines for adding text\n",
    "        self.bullet_points = []\n",
    "        y = 120\n",
    "        for _ in range(10):\n",
    "            bullet_point = self.canvas.create_text(320, y, anchor=\"nw\", text=\"• \", fill=\"black\", font=(\"Arial\", 10))\n",
    "            self.bullet_points.append(bullet_point)\n",
    "            y += 20\n",
    "\n",
    "def main():\n",
    "    root = tk.Tk()\n",
    "    app = SidebarImage(root)\n",
    "    root.mainloop()\n",
    "\n",
    "if __name__ == \"__main__\":\n",
    "    main()"
   ]
  }
 ],
 "metadata": {
  "kernelspec": {
   "display_name": "Python 3",
   "language": "python",
   "name": "python3"
  },
  "language_info": {
   "codemirror_mode": {
    "name": "ipython",
    "version": 3
   },
   "file_extension": ".py",
   "mimetype": "text/x-python",
   "name": "python",
   "nbconvert_exporter": "python",
   "pygments_lexer": "ipython3",
   "version": "3.11.4"
  }
 },
 "nbformat": 4,
 "nbformat_minor": 2
}
