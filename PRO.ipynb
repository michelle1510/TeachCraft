{
 "cells": [
  {
   "cell_type": "code",
   "execution_count": null,
   "metadata": {},
   "outputs": [],
   "source": [
    "class PRO:\n",
    "    courses = list()\n",
    "\n",
    "    #Constructor method\n",
    "    def __init__ (self, prof):\n",
    "        self.prof = prof\n",
    "    \n",
    "    def access_string(self):\n",
    "        print(f\"PRO: {self.prof}\")\n",
    "    \n",
    "    def add_course(self, course):\n",
    "        self.courses.append(course)"
   ]
  }
 ],
 "metadata": {
  "kernelspec": {
   "display_name": "Python 3",
   "language": "python",
   "name": "python3"
  },
  "language_info": {
   "codemirror_mode": {
    "name": "ipython",
    "version": 3
   },
   "file_extension": ".py",
   "mimetype": "text/x-python",
   "name": "python",
   "nbconvert_exporter": "python",
   "pygments_lexer": "ipython3",
   "version": "3.9.6"
  }
 },
 "nbformat": 4,
 "nbformat_minor": 2
}
